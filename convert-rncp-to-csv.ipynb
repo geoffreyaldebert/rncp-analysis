{
 "cells": [
  {
   "cell_type": "code",
   "execution_count": 187,
   "metadata": {},
   "outputs": [],
   "source": [
    "import json"
   ]
  },
  {
   "cell_type": "code",
   "execution_count": 188,
   "metadata": {},
   "outputs": [],
   "source": [
    "with open('export_fiches_RNCP_2020-08-03.xml') as fd:\n",
    "    doc = xmltodict.parse(fd.read())"
   ]
  },
  {
   "cell_type": "code",
   "execution_count": 189,
   "metadata": {},
   "outputs": [],
   "source": [
    "rncpdict = json.loads(json.dumps(doc))"
   ]
  },
  {
   "cell_type": "code",
   "execution_count": 190,
   "metadata": {},
   "outputs": [
    {
     "data": {
      "text/plain": [
       "17763"
      ]
     },
     "execution_count": 190,
     "metadata": {},
     "output_type": "execute_result"
    }
   ],
   "source": [
    "len(rncpdict['FICHES']['FICHE'])"
   ]
  },
  {
   "cell_type": "code",
   "execution_count": 191,
   "metadata": {},
   "outputs": [],
   "source": [
    "maliste = []"
   ]
  },
  {
   "cell_type": "code",
   "execution_count": 192,
   "metadata": {},
   "outputs": [],
   "source": [
    "def recursivedict(level,parent,el,elstring):\n",
    "    if(type(parent[el]) is dict):\n",
    "        for el2 in parent[el]:\n",
    "            elstring=str(el)+'.'+str(el2)\n",
    "            #print(parent[el][el2])\n",
    "            #print(el2)\n",
    "            recursivedict(level+1,parent[el],el2,elstring)\n",
    "    elif(type(parent[el]) is list):\n",
    "        if(el not in maliste):\n",
    "            maliste.append(el)\n",
    "    else:\n",
    "        if(el == 0):\n",
    "            for el2 in parent[el]:\n",
    "                recursivedict(el,el2)\n",
    "        else:\n",
    "            mystr=\"\"\n",
    "            for i in range(level):\n",
    "                mystr = mystr+\"----\"\n",
    "            #print(mystr+elstring)\n"
   ]
  },
  {
   "cell_type": "code",
   "execution_count": 193,
   "metadata": {},
   "outputs": [],
   "source": [
    "for i in range(len(rncpdict['FICHES']['FICHE'])):\n",
    "    recursivedict(0,rncpdict['FICHES']['FICHE'],i,'')"
   ]
  },
  {
   "cell_type": "code",
   "execution_count": 194,
   "metadata": {},
   "outputs": [
    {
     "data": {
      "text/plain": [
       "['NSF',\n",
       " 'ROME',\n",
       " 'BLOC_COMPETENCES',\n",
       " 'CERTIFICATEUR',\n",
       " 'PARTENAIRE',\n",
       " 'FORMACODE',\n",
       " 'STATISTIQUES_PROMOTION',\n",
       " 'PUBLICATION_JO',\n",
       " 'NOUVELLE_CERTIFICATION',\n",
       " 'ANCIENNE_CERTIFICATION']"
      ]
     },
     "execution_count": 194,
     "metadata": {},
     "output_type": "execute_result"
    }
   ],
   "source": [
    "maliste"
   ]
  },
  {
   "cell_type": "code",
   "execution_count": 459,
   "metadata": {},
   "outputs": [],
   "source": [
    "def recursivedict2(level,parent,el,elstring,ficheid):\n",
    "    if(el not in maliste):\n",
    "        if(type(parent[el]) is dict):\n",
    "            for el2 in parent[el]:\n",
    "                if(type(el) is not int):\n",
    "                    elstring=str(el)+'.'+str(el2)\n",
    "                else:\n",
    "                    elstring=str(el2)\n",
    "                recursivedict2(level+1,parent[el],el2,elstring,ficheid)\n",
    "        else:\n",
    "            if(el == 0):\n",
    "                for el2 in parent[el]:\n",
    "                    recursivedict2(level+1,parent[el],el2,elstring,ficheid)\n",
    "            else:\n",
    "                mydict[elstring] = parent[el]\n",
    "    else:\n",
    "        if(type(parent[el]) is dict):\n",
    "            elmdict = {}\n",
    "            for elm in parent[el]:\n",
    "                elmdict[elm] = parent[el][elm]\n",
    "            if(elmdict != None):\n",
    "                elmdict['ID_FICHE'] = ficheid\n",
    "                annexedict[el].append(elmdict)\n",
    "        else:\n",
    "            if(type(parent[el]) is list):\n",
    "                try:\n",
    "                    for elm in parent[el]:\n",
    "                        if(type(elm) is dict):\n",
    "                            elmdict = {}\n",
    "                            for elm2 in elm:\n",
    "                                elmdict[elm2] = elm[elm2]\n",
    "                            if(elmdict != None):\n",
    "                                elmdict['ID_FICHE'] = ficheid\n",
    "                                annexedict[el].append(elmdict)\n",
    "                        else:\n",
    "                            annexedict[el].append({el: parent[el],'ID_FICHE':ficheid})\n",
    "                except:\n",
    "                    print(parent[el])\n",
    "            else:\n",
    "                annexedict[el].append({el: parent[el],'ID_FICHE':ficheid})\n",
    "\n",
    "\n"
   ]
  },
  {
   "cell_type": "code",
   "execution_count": 460,
   "metadata": {},
   "outputs": [],
   "source": [
    "annexedict = {}\n",
    "for el in maliste:\n",
    "    annexedict[el] = []\n",
    "  "
   ]
  },
  {
   "cell_type": "code",
   "execution_count": 461,
   "metadata": {},
   "outputs": [
    {
     "data": {
      "text/plain": [
       "{'NSF': [],\n",
       " 'ROME': [],\n",
       " 'BLOC_COMPETENCES': [],\n",
       " 'CERTIFICATEUR': [],\n",
       " 'PARTENAIRE': [],\n",
       " 'FORMACODE': [],\n",
       " 'STATISTIQUES_PROMOTION': [],\n",
       " 'PUBLICATION_JO': [],\n",
       " 'NOUVELLE_CERTIFICATION': [],\n",
       " 'ANCIENNE_CERTIFICATION': []}"
      ]
     },
     "execution_count": 461,
     "metadata": {},
     "output_type": "execute_result"
    }
   ],
   "source": [
    "annexedict"
   ]
  },
  {
   "cell_type": "code",
   "execution_count": 462,
   "metadata": {},
   "outputs": [],
   "source": [
    "arr = []\n",
    "for i in range(len(rncpdict['FICHES']['FICHE'])):\n",
    "    mydict = {}\n",
    "    recursivedict2(0,rncpdict['FICHES']['FICHE'],i,'',rncpdict['FICHES']['FICHE'][i]['ID_FICHE'])\n",
    "    arr.append(mydict)"
   ]
  },
  {
   "cell_type": "code",
   "execution_count": 463,
   "metadata": {},
   "outputs": [],
   "source": [
    "df = pd.DataFrame(arr)"
   ]
  },
  {
   "cell_type": "code",
   "execution_count": 464,
   "metadata": {},
   "outputs": [
    {
     "data": {
      "text/plain": [
       "(17763, 42)"
      ]
     },
     "execution_count": 464,
     "metadata": {},
     "output_type": "execute_result"
    }
   ],
   "source": [
    "df.shape"
   ]
  },
  {
   "cell_type": "code",
   "execution_count": 465,
   "metadata": {},
   "outputs": [],
   "source": [
    "df.to_csv('output/rncp_main.csv',index=False)"
   ]
  },
  {
   "cell_type": "code",
   "execution_count": 466,
   "metadata": {},
   "outputs": [],
   "source": [
    "for el in annexedict:\n",
    "    df = pd.DataFrame(annexedict[el])\n",
    "    df.to_csv('output/rncp_annexe_'+el+'.csv',index=False)"
   ]
  },
  {
   "cell_type": "code",
   "execution_count": null,
   "metadata": {},
   "outputs": [],
   "source": []
  }
 ],
 "metadata": {
  "kernelspec": {
   "display_name": "Python 3",
   "language": "python",
   "name": "python3"
  },
  "language_info": {
   "codemirror_mode": {
    "name": "ipython",
    "version": 3
   },
   "file_extension": ".py",
   "mimetype": "text/x-python",
   "name": "python",
   "nbconvert_exporter": "python",
   "pygments_lexer": "ipython3",
   "version": "3.8.6"
  }
 },
 "nbformat": 4,
 "nbformat_minor": 4
}
